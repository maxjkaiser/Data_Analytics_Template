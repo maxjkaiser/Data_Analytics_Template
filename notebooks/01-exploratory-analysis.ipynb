{
 "cells": [
  {
   "cell_type": "markdown",
   "metadata": {},
   "source": [
    "# 01-exploratory-analysis.ipynb\n",
    "\n",
    "# 1. Import necessary libraries\n",
    "import pandas as pd\n",
    "import numpy as np\n",
    "import matplotlib.pyplot as plt\n",
    "import seaborn as sns\n",
    "\n",
    "# 2. Load the data\n",
    "data = pd.read_csv('../data/cleaned/sample_data.csv')\n",
    "\n",
    "# 3. Inspect the data\n",
    "print(data.head())\n",
    "\n",
    "# 4. Exploratory Data Analysis\n",
    "#  - Check missing values\n",
    "#  - Summary statistics\n",
    "#  - Visualizations\n",
    "\n",
    "# Example: Distribution of a column\n",
    "sns.histplot(data['age'], kde=True)\n",
    "plt.show()\n"
   ]
  }
 ],
 "metadata": {
  "language_info": {
   "name": "python"
  }
 },
 "nbformat": 4,
 "nbformat_minor": 2
}
